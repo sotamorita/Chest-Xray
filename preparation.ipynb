{
 "cells": [
  {
   "cell_type": "markdown",
   "metadata": {},
   "source": [
    "# 画像の前処理\n",
    "※jupyter lab で実行"
   ]
  },
  {
   "cell_type": "code",
   "execution_count": 1,
   "metadata": {},
   "outputs": [],
   "source": [
    "# ライブラリのインポート\n",
    "import numpy as np\n",
    "import matplotlib.pyplot as plt\n",
    "from matplotlib.pyplot import imshow\n",
    "import pandas as pd\n",
    "import cv2\n",
    "import os\n",
    "import glob\n",
    "import random\n",
    "import gc\n",
    "\n",
    "from sklearn.model_selection import train_test_split\n",
    "\n",
    "%matplotlib inline"
   ]
  },
  {
   "cell_type": "code",
   "execution_count": 2,
   "metadata": {},
   "outputs": [
    {
     "name": "stdout",
     "output_type": "stream",
     "text": [
      "時間がかかるためコメントアウト\n"
     ]
    }
   ],
   "source": [
    "# 画像名を変更 \n",
    "path0 = \"./chest_xray\"\n",
    "path_li1 = [\"test\", \"train\"]\n",
    "path_li2 = [\"NORMAL\", \"PNEUMONIA\"]\n",
    "'''\n",
    "for path1 in path_li1:\n",
    "    for path2 in path_li2:\n",
    "        files = glob.glob(path0 + \"/\" + path1 + \"/\" + path2 + \"/*\")\n",
    "        \n",
    "        for i, f in enumerate(files):\n",
    "            ftitle, fext = os.path.splitext(f)\n",
    "            \n",
    "            os.rename(f, path0 + \"/\" + path1 + \"/\" + path2 + \"/\" + \\\n",
    "                      path1 + \"_\" + path2 + \"_\" + \"{0:04d}\".format(i) + fext)\n",
    "'''\n",
    "print(\"時間がかかるためコメントアウト\")"
   ]
  },
  {
   "cell_type": "code",
   "execution_count": 3,
   "metadata": {},
   "outputs": [
    {
     "name": "stdout",
     "output_type": "stream",
     "text": [
      "# of train images     : 5232\n",
      "# of normal images    : 1349\n",
      "# of pneumonia images : 3883\n",
      "# of test images      : 624\n",
      "# of normal images    : 234\n",
      "# of pneumonia images : 390\n"
     ]
    }
   ],
   "source": [
    "# 画像数を確認\n",
    "dir_train = path0 + \"/train\"\n",
    "dir_test = path0 + \"/test\"\n",
    "img_train_li = glob.glob(dir_train + \"/*/*.jpeg\")\n",
    "img_train_n_li = glob.glob(dir_train + \"/NORMAL/*.jpeg\")\n",
    "img_train_p_li = glob.glob(dir_train + \"/PNEUMONIA/*.jpeg\")\n",
    "img_test_li = glob.glob(dir_test + \"/*/*.jpeg\")\n",
    "img_test_n_li = glob.glob(dir_test + \"/NORMAL/*.jpeg\")\n",
    "img_test_p_li = glob.glob(dir_test + \"/PNEUMONIA/*.jpeg\")\n",
    "print(f'# of train images     : {len(img_train_li)}')\n",
    "print(f'# of normal images    : {len(img_train_n_li)}')\n",
    "print(f'# of pneumonia images : {len(img_train_p_li)}')\n",
    "print(f'# of test images      : {len(img_test_li)}')\n",
    "print(f'# of normal images    : {len(img_test_n_li)}')\n",
    "print(f'# of pneumonia images : {len(img_test_p_li)}')"
   ]
  },
  {
   "cell_type": "code",
   "execution_count": 4,
   "metadata": {},
   "outputs": [],
   "source": [
    "def scale_to_width(img, width):\n",
    "    \n",
    "    # 幅が指定した値になるように、アスペクト比を固定して、リサイズする\n",
    "    h, w, _ = img.shape\n",
    "    height = round(h * (width / w))\n",
    "    dst = cv2.resize(img, dsize=(width, height))\n",
    "\n",
    "    return dst"
   ]
  },
  {
   "cell_type": "markdown",
   "metadata": {},
   "source": [
    "## 訓練データの前処理"
   ]
  },
  {
   "cell_type": "code",
   "execution_count": 5,
   "metadata": {},
   "outputs": [
    {
     "name": "stdout",
     "output_type": "stream",
     "text": [
      "保存済みのためコメントアウト\n"
     ]
    }
   ],
   "source": [
    "\"\"\"\n",
    "for i, name in enumerate(img_train_li):\n",
    "    \n",
    "    # 画像の読み込み\n",
    "    img_name = name\n",
    "    img = cv2.imread(img_name)\n",
    "        \n",
    "    # リサイズ\n",
    "    img = scale_to_width(img, 224)\n",
    "\n",
    "    # 左右をトリミング\n",
    "    num_trim = 20\n",
    "    img = img[:, num_trim:-num_trim]\n",
    "    \n",
    "    # リサイズ\n",
    "    h, w, _ = img.shape\n",
    "    img = cv2.resize(img, dsize=(224, 224))\n",
    "    \n",
    "            \n",
    "    # 画像の保存\n",
    "    img_name_224 = img_name[:12] + \"_2_224\" + img_name[12:]\n",
    "    cv2.imwrite(img_name_224, img)\n",
    "\"\"\"\n",
    "print(\"保存済みのためコメントアウト\")"
   ]
  },
  {
   "cell_type": "code",
   "execution_count": 7,
   "metadata": {},
   "outputs": [],
   "source": [
    "# 224サイズ用の画像名リスト作成\n",
    "img_train_224_li = []\n",
    "for i, name in enumerate(img_train_li):\n",
    "    \n",
    "    img_name = name\n",
    "    img_name_224 = img_name[:12] + \"_2_224\" + img_name[12:]\n",
    "    img_train_224_li.append(img_name_224)"
   ]
  },
  {
   "cell_type": "code",
   "execution_count": 8,
   "metadata": {},
   "outputs": [],
   "source": [
    "# データの形状\n",
    "h, w, c = 224, 224, 3\n",
    "\n",
    "# データ領域の大きさ\n",
    "size = 1\n",
    "\n",
    "# ndarrayのデータを保管する領域の確保\n",
    "X_len = len(img_train_224_li)\n",
    "X_train = np.empty((X_len*size, h*w*c), dtype=np.uint8)\n",
    "\n",
    "for i, name in enumerate(img_train_224_li):\n",
    "\n",
    "    # 元の画像をndarrayとして読み込んで訓練データに追加\n",
    "    img_name = name\n",
    "    img = cv2.imread(img_name)\n",
    "    img = np.asarray(img, dtype=np.uint8)\n",
    "    img_f = img.flatten()\n",
    "    X_train[i] = img_f\n",
    "\n",
    "X_train = X_train.reshape(X_len*size, h, w, c)"
   ]
  },
  {
   "cell_type": "code",
   "execution_count": 9,
   "metadata": {},
   "outputs": [],
   "source": [
    "# 目的変数の作成\n",
    "Y_train = [[1, 0]] * len(img_train_n_li) + [[0, 1]] * len(img_train_p_li)\n",
    "Y_train = Y_train * size\n",
    "Y_train = np.asarray(Y_train)"
   ]
  },
  {
   "cell_type": "code",
   "execution_count": 10,
   "metadata": {},
   "outputs": [],
   "source": [
    "# # データの保存\n",
    "# np.save('./X', X_train)\n",
    "# np.save('./Y', Y_train)"
   ]
  },
  {
   "cell_type": "code",
   "execution_count": 12,
   "metadata": {},
   "outputs": [],
   "source": [
    "# 訓練データ、検証データの分割\n",
    "num_n = len(img_train_n_li)\n",
    "num_p = len(img_train_p_li)\n",
    "\n",
    "# NormalとPneumoniaに分けて格納\n",
    "X_n = X_train[:num_n]\n",
    "X_p = X_train[num_n:]\n",
    "Y_n = Y_train[:num_n]\n",
    "Y_p = Y_train[num_n:X_len]\n",
    "Y_n = np.array(Y_n)\n",
    "Y_p = np.array(Y_p)\n",
    "\n",
    "del X_train, Y_train\n",
    "gc.collect()# メモリ開放\n",
    "\n",
    "# NormalとPneumoniaをそれぞれ訓練、検証データに分割\n",
    "X_train_n, X_valid_n, Y_train_n, Y_valid_n = train_test_split(X_n, Y_n, test_size=0.2, random_state=82)\n",
    "X_train_p, X_valid_p, Y_train_p, Y_valid_p = train_test_split(X_p, Y_p, test_size=0.2, random_state=82)\n",
    "\n",
    "del X_n, Y_n, X_p, Y_p\n",
    "gc.collect() # メモリ開放\n",
    "\n",
    "# 訓練データの構造\n",
    "print(f\"X_train (Normal   ): {X_train_n.shape}\")\n",
    "print(f\"X_train (Pneumonia): {X_train_p.shape}\")\n",
    "print(f\"X_valid (Normal   ): {X_valid_n.shape}\")\n",
    "print(f\"X_valid (Pneumonia): {X_valid_p.shape}\")\n",
    "\n",
    "# データの結合\n",
    "X_train = np.concatenate([X_train_n, X_train_p])\n",
    "X_valid = np.concatenate([X_valid_n, X_valid_p])\n",
    "Y_train = np.concatenate([Y_train_n, Y_train_p])\n",
    "Y_valid = np.concatenate([Y_valid_n, Y_valid_p])"
   ]
  },
  {
   "cell_type": "code",
   "execution_count": 13,
   "metadata": {},
   "outputs": [
    {
     "name": "stdout",
     "output_type": "stream",
     "text": [
      "X_train: (4185, 224, 224, 3)\n",
      "Y_train: (4185, 2)\n",
      "X_valid: (1047, 224, 224, 3)\n",
      "Y_valid: (1047, 2)\n"
     ]
    }
   ],
   "source": [
    "# 訓練データと検証データの構造\n",
    "print(f\"X_train: {X_train.shape}\")\n",
    "print(f\"Y_train: {Y_train.shape}\")\n",
    "print(f\"X_valid: {X_valid.shape}\")\n",
    "print(f\"Y_valid: {Y_valid.shape}\")"
   ]
  },
  {
   "cell_type": "code",
   "execution_count": 14,
   "metadata": {},
   "outputs": [],
   "source": [
    "# データの保存\n",
    "np.save('./X_train2', X_train)\n",
    "np.save('./Y_train2', Y_train)\n",
    "np.save('./X_valid2', X_valid)\n",
    "np.save('./Y_valid2', Y_valid)"
   ]
  },
  {
   "cell_type": "markdown",
   "metadata": {},
   "source": [
    "## テストデータの前処理"
   ]
  },
  {
   "cell_type": "code",
   "execution_count": 15,
   "metadata": {},
   "outputs": [
    {
     "name": "stdout",
     "output_type": "stream",
     "text": [
      "保存済みのためコメントアウト\n"
     ]
    }
   ],
   "source": [
    "\"\"\"\n",
    "for i, name in enumerate(img_test_li):\n",
    "    \n",
    "    # 画像の読み込み\n",
    "    img_name = name\n",
    "    img = cv2.imread(img_name)\n",
    "        \n",
    "    # リサイズ\n",
    "    img = scale_to_width(img, 224)\n",
    "\n",
    "    # 左右をトリミング\n",
    "    num_trim = 20\n",
    "    img = img[:, num_trim:-num_trim]\n",
    "    \n",
    "    # リサイズ\n",
    "    h, w, _ = img.shape\n",
    "    img = cv2.resize(img, dsize=(224, 224))\n",
    "    \n",
    "    # 画像の保存\n",
    "    img_name_224 = img_name[:12] + \"_2_224\" + img_name[12:]\n",
    "    cv2.imwrite(img_name_224, img)\n",
    "\"\"\"\n",
    "print(\"保存済みのためコメントアウト\")"
   ]
  },
  {
   "cell_type": "code",
   "execution_count": 16,
   "metadata": {},
   "outputs": [],
   "source": [
    "# 224サイズ用の画像名リスト作成\n",
    "img_test_224_li = []\n",
    "for i, name in enumerate(img_test_li):\n",
    "    \n",
    "    img_name = name\n",
    "    img_name_224 = img_name[:12] + \"_2_224\" + img_name[12:]\n",
    "    img_test_224_li.append(img_name_224)"
   ]
  },
  {
   "cell_type": "code",
   "execution_count": 17,
   "metadata": {},
   "outputs": [],
   "source": [
    "# ndarrayのデータを保管する領域の確保\n",
    "test_len = len(img_test_224_li)\n",
    "X_test = np.empty((test_len, 224*224*3), dtype=np.uint8)\n",
    "\n",
    "for i, name in enumerate(img_test_224_li):\n",
    "\n",
    "    # 元の画像をndarrayとして読み込んでテストデータに追加\n",
    "    img_name = name\n",
    "    img = cv2.imread(img_name)\n",
    "    \n",
    "    img = np.asarray(img,dtype=np.uint8)\n",
    "    img_f = img.flatten()\n",
    "    X_test[i] = img_f\n",
    "\n",
    "X_test = X_test.reshape(len(X_test), 224, 224, 3)"
   ]
  },
  {
   "cell_type": "code",
   "execution_count": 18,
   "metadata": {},
   "outputs": [],
   "source": [
    "# 目的変数の作成\n",
    "Y_test = [[1, 0]] * len(img_test_n_li) + [[0, 1]] * len(img_test_p_li)\n",
    "Y_test = np.asarray(Y_test)"
   ]
  },
  {
   "cell_type": "code",
   "execution_count": 19,
   "metadata": {},
   "outputs": [],
   "source": [
    "# データの保存\n",
    "np.save('./X_test2', X_test)\n",
    "np.save('./Y_test2', Y_test)"
   ]
  },
  {
   "cell_type": "code",
   "execution_count": null,
   "metadata": {},
   "outputs": [],
   "source": [
    "# 描画を行う関数\n",
    "def draw(X):\n",
    "    fig = plt.figure(figsize=(8, 8))\n",
    "    pos = 1\n",
    "    \n",
    "    for i in range(X.shape[0]):\n",
    "        ax = fig.add_subplot(4, 4, pos)\n",
    "        imshow(X[i])\n",
    "        ax.set_title(f'No.{i+1}', y=0.98)\n",
    "        ax.axis('off')\n",
    "        pos += 1\n",
    "    plt.show()\n",
    "    \n",
    "# テスト画像の表示\n",
    "batch_size = 16\n",
    "draw(X_test[0:batch_size])"
   ]
  }
 ],
 "metadata": {
  "kernelspec": {
   "display_name": "Python 3",
   "language": "python",
   "name": "python3"
  },
  "language_info": {
   "codemirror_mode": {
    "name": "ipython",
    "version": 3
   },
   "file_extension": ".py",
   "mimetype": "text/x-python",
   "name": "python",
   "nbconvert_exporter": "python",
   "pygments_lexer": "ipython3",
   "version": "3.8.3"
  }
 },
 "nbformat": 4,
 "nbformat_minor": 4
}
