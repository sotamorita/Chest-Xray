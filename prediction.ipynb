{
 "cells": [
  {
   "cell_type": "markdown",
   "metadata": {
    "id": "Hp3t0aK82Mxr"
   },
   "source": [
    "# データの学習\n",
    "※Google Colab で実行"
   ]
  },
  {
   "cell_type": "code",
   "execution_count": null,
   "metadata": {},
   "outputs": [],
   "source": [
    "# ライブラリのインポート\n",
    "import numpy as np\n",
    "import matplotlib.pyplot as plt\n",
    "import cv2\n",
    "from google.colab.patches import cv2_imshow\n",
    "\n",
    "import tensorflow as tf\n",
    "from tensorflow import keras\n",
    "from tensorflow.keras.layers import Dense, Dropout, Flatten\n",
    "from tensorflow.keras.optimizers import RMSprop\n",
    "from tensorflow.keras.applications import VGG16\n",
    "from tensorflow.keras.preprocessing.image import ImageDataGenerator\n",
    "from tensorflow.keras.models import Sequential\n",
    "from tensorflow.keras.models import Model"
   ]
  },
  {
   "cell_type": "code",
   "execution_count": 2,
   "metadata": {
    "id": "9crzTRRJ2hlR"
   },
   "outputs": [],
   "source": [
    "# npyファイル読み込み\n",
    "X_train = np.load('/content/drive/MyDrive/python/chest_xray/X_train2.npy')\n",
    "Y_train = np.load('/content/drive/MyDrive/python/chest_xray/Y_train2.npy')\n",
    "X_train = X_train.astype(np.float32)\n",
    "X_train = X_train / 255.0\n",
    "\n",
    "X_valid = np.load('/content/drive/MyDrive/python/chest_xray/X_valid2.npy')\n",
    "Y_valid = np.load('/content/drive/MyDrive/python/chest_xray/Y_valid2.npy')\n",
    "X_valid = X_valid.astype(np.float32)\n",
    "X_valid = X_valid / 255.0"
   ]
  },
  {
   "cell_type": "code",
   "execution_count": 3,
   "metadata": {
    "id": "Zi9d2UlXbZsK"
   },
   "outputs": [],
   "source": [
    "# XとYの対応関係を保ったままシャッフル\n",
    "seed_train = np.random.permutation(len(X_train))\n",
    "X_train = X_train[seed_train]\n",
    "Y_train = Y_train[seed_train]\n",
    "seed_valid = np.random.permutation(len(X_valid))\n",
    "X_valid = X_valid[seed_valid]\n",
    "Y_valid = Y_valid[seed_valid]"
   ]
  },
  {
   "cell_type": "code",
   "execution_count": 4,
   "metadata": {
    "id": "kkdIS5nuIdUG"
   },
   "outputs": [],
   "source": [
    "# データの拡張\n",
    "datagen = ImageDataGenerator(\n",
    "        rotation_range=20, \n",
    "        zoom_range=0.15, \n",
    "        width_shift_range=0.15, \n",
    "        height_shift_range=0.15, \n",
    "        )"
   ]
  },
  {
   "cell_type": "code",
   "execution_count": 6,
   "metadata": {
    "colab": {
     "base_uri": "https://localhost:8080/"
    },
    "id": "sOFnZZxZ4nGX",
    "outputId": "e3de923d-7b32-46b5-ec9d-6a992358dc6b"
   },
   "outputs": [
    {
     "name": "stdout",
     "output_type": "stream",
     "text": [
      "Model: \"model\"\n",
      "_________________________________________________________________\n",
      "Layer (type)                 Output Shape              Param #   \n",
      "=================================================================\n",
      "input_1 (InputLayer)         [(None, 224, 224, 3)]     0         \n",
      "_________________________________________________________________\n",
      "block1_conv1 (Conv2D)        (None, 224, 224, 64)      1792      \n",
      "_________________________________________________________________\n",
      "block1_conv2 (Conv2D)        (None, 224, 224, 64)      36928     \n",
      "_________________________________________________________________\n",
      "block1_pool (MaxPooling2D)   (None, 112, 112, 64)      0         \n",
      "_________________________________________________________________\n",
      "block2_conv1 (Conv2D)        (None, 112, 112, 128)     73856     \n",
      "_________________________________________________________________\n",
      "block2_conv2 (Conv2D)        (None, 112, 112, 128)     147584    \n",
      "_________________________________________________________________\n",
      "block2_pool (MaxPooling2D)   (None, 56, 56, 128)       0         \n",
      "_________________________________________________________________\n",
      "block3_conv1 (Conv2D)        (None, 56, 56, 256)       295168    \n",
      "_________________________________________________________________\n",
      "block3_conv2 (Conv2D)        (None, 56, 56, 256)       590080    \n",
      "_________________________________________________________________\n",
      "block3_conv3 (Conv2D)        (None, 56, 56, 256)       590080    \n",
      "_________________________________________________________________\n",
      "block3_pool (MaxPooling2D)   (None, 28, 28, 256)       0         \n",
      "_________________________________________________________________\n",
      "block4_conv1 (Conv2D)        (None, 28, 28, 512)       1180160   \n",
      "_________________________________________________________________\n",
      "block4_conv2 (Conv2D)        (None, 28, 28, 512)       2359808   \n",
      "_________________________________________________________________\n",
      "block4_conv3 (Conv2D)        (None, 28, 28, 512)       2359808   \n",
      "_________________________________________________________________\n",
      "block4_pool (MaxPooling2D)   (None, 14, 14, 512)       0         \n",
      "_________________________________________________________________\n",
      "block5_conv1 (Conv2D)        (None, 14, 14, 512)       2359808   \n",
      "_________________________________________________________________\n",
      "block5_conv2 (Conv2D)        (None, 14, 14, 512)       2359808   \n",
      "_________________________________________________________________\n",
      "block5_conv3 (Conv2D)        (None, 14, 14, 512)       2359808   \n",
      "_________________________________________________________________\n",
      "block5_pool (MaxPooling2D)   (None, 7, 7, 512)         0         \n",
      "_________________________________________________________________\n",
      "sequential (Sequential)      (None, 2)                 6423298   \n",
      "=================================================================\n",
      "Total params: 21,137,986\n",
      "Trainable params: 21,137,986\n",
      "Non-trainable params: 0\n",
      "_________________________________________________________________\n"
     ]
    }
   ],
   "source": [
    "# モデルの定義(VGG16)\n",
    "model = VGG16(weights='imagenet', include_top=False, input_shape=(224, 224, 3))\n",
    "# model.summary()\n",
    "\n",
    "# ファインチューニング\n",
    "top_model = Sequential()\n",
    "top_model.add(Flatten(input_shape=model.output_shape[1:]))\n",
    "top_model.add(Dense(256, activation='relu'))\n",
    "top_model.add(Dropout(0.5))\n",
    "top_model.add(Dense(2, activation='softmax'))\n",
    "\n",
    "model = Model(inputs=model.input, outputs=top_model(model.output))\n",
    "\n",
    "model.summary()\n",
    "\n",
    "for layer in model.layers[:15]:\n",
    "    layer.trainable = False\n",
    "\n",
    "# 学習率のスケジューリング\n",
    "def scheduler(epoch, lr):\n",
    "    if epoch < 20:\n",
    "        return lr\n",
    "    else:\n",
    "        return lr * tf.math.exp(-0.1)\n",
    "\n",
    "callback = keras.callbacks.LearningRateScheduler(scheduler)\n",
    "\n",
    "opt = RMSprop(learning_rate=0.0001)\n",
    "model.compile(optimizer=opt, loss='binary_crossentropy', metrics=['accuracy'])"
   ]
  },
  {
   "cell_type": "code",
   "execution_count": 7,
   "metadata": {
    "colab": {
     "base_uri": "https://localhost:8080/"
    },
    "id": "ekTWF10e4-TQ",
    "outputId": "ee37bf6d-c576-44e0-e9d0-a71935e9f197"
   },
   "outputs": [
    {
     "name": "stdout",
     "output_type": "stream",
     "text": [
      "Epoch 1/40\n",
      "32/32 [==============================] - 60s 1s/step - loss: 0.5158 - accuracy: 0.8035 - val_loss: 0.1922 - val_accuracy: 0.9209\n",
      "Epoch 2/40\n",
      "32/32 [==============================] - 50s 2s/step - loss: 0.2407 - accuracy: 0.9004 - val_loss: 0.1853 - val_accuracy: 0.9141\n",
      "Epoch 3/40\n",
      "32/32 [==============================] - 50s 2s/step - loss: 0.1991 - accuracy: 0.9228 - val_loss: 0.1258 - val_accuracy: 0.9570\n",
      "Epoch 4/40\n",
      "32/32 [==============================] - 49s 2s/step - loss: 0.1803 - accuracy: 0.9256 - val_loss: 0.1625 - val_accuracy: 0.9268\n",
      "Epoch 5/40\n",
      "32/32 [==============================] - 49s 2s/step - loss: 0.1414 - accuracy: 0.9465 - val_loss: 0.1408 - val_accuracy: 0.9473\n",
      "Epoch 6/40\n",
      "32/32 [==============================] - 49s 2s/step - loss: 0.1309 - accuracy: 0.9477 - val_loss: 0.0855 - val_accuracy: 0.9697\n",
      "Epoch 7/40\n",
      "32/32 [==============================] - 48s 2s/step - loss: 0.1305 - accuracy: 0.9482 - val_loss: 0.1038 - val_accuracy: 0.9609\n",
      "Epoch 8/40\n",
      "32/32 [==============================] - 48s 1s/step - loss: 0.1082 - accuracy: 0.9574 - val_loss: 0.1038 - val_accuracy: 0.9639\n",
      "Epoch 9/40\n",
      "32/32 [==============================] - 48s 2s/step - loss: 0.1203 - accuracy: 0.9601 - val_loss: 0.1337 - val_accuracy: 0.9492\n",
      "Epoch 10/40\n",
      "32/32 [==============================] - 49s 2s/step - loss: 0.0806 - accuracy: 0.9704 - val_loss: 0.1193 - val_accuracy: 0.9492\n",
      "Epoch 11/40\n",
      "32/32 [==============================] - 48s 2s/step - loss: 0.1013 - accuracy: 0.9625 - val_loss: 0.0974 - val_accuracy: 0.9697\n",
      "Epoch 12/40\n",
      "32/32 [==============================] - 47s 1s/step - loss: 0.0860 - accuracy: 0.9717 - val_loss: 0.0977 - val_accuracy: 0.9648\n",
      "Epoch 13/40\n",
      "32/32 [==============================] - 46s 1s/step - loss: 0.0750 - accuracy: 0.9744 - val_loss: 0.0844 - val_accuracy: 0.9678\n",
      "Epoch 14/40\n",
      "32/32 [==============================] - 46s 1s/step - loss: 0.0799 - accuracy: 0.9692 - val_loss: 0.0937 - val_accuracy: 0.9697\n",
      "Epoch 15/40\n",
      "32/32 [==============================] - 47s 1s/step - loss: 0.0764 - accuracy: 0.9694 - val_loss: 0.0979 - val_accuracy: 0.9658\n",
      "Epoch 16/40\n",
      "32/32 [==============================] - 47s 1s/step - loss: 0.0668 - accuracy: 0.9741 - val_loss: 0.1076 - val_accuracy: 0.9658\n",
      "Epoch 17/40\n",
      "32/32 [==============================] - 47s 1s/step - loss: 0.0730 - accuracy: 0.9761 - val_loss: 0.1068 - val_accuracy: 0.9688\n",
      "Epoch 18/40\n",
      "32/32 [==============================] - 47s 1s/step - loss: 0.0674 - accuracy: 0.9781 - val_loss: 0.0918 - val_accuracy: 0.9678\n",
      "Epoch 19/40\n",
      "32/32 [==============================] - 46s 1s/step - loss: 0.0678 - accuracy: 0.9741 - val_loss: 0.0982 - val_accuracy: 0.9658\n",
      "Epoch 20/40\n",
      "32/32 [==============================] - 46s 1s/step - loss: 0.0704 - accuracy: 0.9781 - val_loss: 0.0769 - val_accuracy: 0.9707\n",
      "Epoch 21/40\n",
      "32/32 [==============================] - 47s 1s/step - loss: 0.0562 - accuracy: 0.9813 - val_loss: 0.0966 - val_accuracy: 0.9707\n",
      "Epoch 22/40\n",
      "32/32 [==============================] - 46s 1s/step - loss: 0.0513 - accuracy: 0.9840 - val_loss: 0.1147 - val_accuracy: 0.9707\n",
      "Epoch 23/40\n",
      "32/32 [==============================] - 46s 1s/step - loss: 0.0456 - accuracy: 0.9852 - val_loss: 0.1012 - val_accuracy: 0.9697\n",
      "Epoch 24/40\n",
      "32/32 [==============================] - 46s 1s/step - loss: 0.0442 - accuracy: 0.9877 - val_loss: 0.1114 - val_accuracy: 0.9727\n",
      "Epoch 25/40\n",
      "32/32 [==============================] - 46s 1s/step - loss: 0.0364 - accuracy: 0.9887 - val_loss: 0.0998 - val_accuracy: 0.9678\n",
      "Epoch 26/40\n",
      "32/32 [==============================] - 46s 1s/step - loss: 0.0389 - accuracy: 0.9874 - val_loss: 0.1217 - val_accuracy: 0.9609\n",
      "Epoch 27/40\n",
      "32/32 [==============================] - 46s 1s/step - loss: 0.0285 - accuracy: 0.9887 - val_loss: 0.1267 - val_accuracy: 0.9678\n",
      "Epoch 28/40\n",
      "32/32 [==============================] - 46s 1s/step - loss: 0.0317 - accuracy: 0.9877 - val_loss: 0.0784 - val_accuracy: 0.9746\n",
      "Epoch 29/40\n",
      "32/32 [==============================] - 45s 1s/step - loss: 0.0265 - accuracy: 0.9904 - val_loss: 0.0801 - val_accuracy: 0.9795\n",
      "Epoch 30/40\n",
      "32/32 [==============================] - 46s 1s/step - loss: 0.0312 - accuracy: 0.9896 - val_loss: 0.0926 - val_accuracy: 0.9805\n",
      "Epoch 31/40\n",
      "32/32 [==============================] - 46s 1s/step - loss: 0.0199 - accuracy: 0.9916 - val_loss: 0.1018 - val_accuracy: 0.9727\n",
      "Epoch 32/40\n",
      "32/32 [==============================] - 46s 1s/step - loss: 0.0220 - accuracy: 0.9924 - val_loss: 0.1020 - val_accuracy: 0.9756\n",
      "Epoch 33/40\n",
      "32/32 [==============================] - 46s 1s/step - loss: 0.0227 - accuracy: 0.9911 - val_loss: 0.0903 - val_accuracy: 0.9746\n",
      "Epoch 34/40\n",
      "32/32 [==============================] - 45s 1s/step - loss: 0.0192 - accuracy: 0.9931 - val_loss: 0.0842 - val_accuracy: 0.9756\n",
      "Epoch 35/40\n",
      "32/32 [==============================] - 46s 1s/step - loss: 0.0192 - accuracy: 0.9931 - val_loss: 0.1097 - val_accuracy: 0.9746\n",
      "Epoch 36/40\n",
      "32/32 [==============================] - 46s 1s/step - loss: 0.0137 - accuracy: 0.9944 - val_loss: 0.1091 - val_accuracy: 0.9727\n",
      "Epoch 37/40\n",
      "32/32 [==============================] - 46s 1s/step - loss: 0.0112 - accuracy: 0.9963 - val_loss: 0.0710 - val_accuracy: 0.9756\n",
      "Epoch 38/40\n",
      "32/32 [==============================] - 46s 1s/step - loss: 0.0111 - accuracy: 0.9956 - val_loss: 0.0897 - val_accuracy: 0.9814\n",
      "Epoch 39/40\n",
      "32/32 [==============================] - 46s 1s/step - loss: 0.0190 - accuracy: 0.9946 - val_loss: 0.1002 - val_accuracy: 0.9746\n",
      "Epoch 40/40\n",
      "32/32 [==============================] - 47s 1s/step - loss: 0.0192 - accuracy: 0.9933 - val_loss: 0.0893 - val_accuracy: 0.9785\n"
     ]
    }
   ],
   "source": [
    "# 学習の実施\n",
    "batch_size_train = 128\n",
    "batch_size_valid = 32\n",
    "epochs = 40\n",
    "log = model.fit(\n",
    "    datagen.flow(X_train, Y_train, batch_size_train),\n",
    "    steps_per_epoch=len(X_train) // batch_size_train,\n",
    "    epochs=epochs,\n",
    "    verbose=True,\n",
    "    validation_data=datagen.flow(X_valid, Y_valid, batch_size=batch_size_valid),\n",
    "    validation_steps=len(X_valid) // batch_size_valid,\n",
    "    callbacks=[callback],  \n",
    "    )"
   ]
  },
  {
   "cell_type": "code",
   "execution_count": 8,
   "metadata": {
    "colab": {
     "base_uri": "https://localhost:8080/",
     "height": 283
    },
    "id": "D5ik3rjX5bSS",
    "outputId": "5eb3c129-b7ac-42c8-f54b-cb4d8d37a6de"
   },
   "outputs": [
    {
     "data": {
      "image/png": "[encoded data removed]",
      "text/plain": [
       "<Figure size 432x288 with 1 Axes>"
      ]
     },
     "metadata": {
      "needs_background": "light"
     },
     "output_type": "display_data"
    }
   ],
   "source": [
    "# グラフ表示\n",
    "plt.plot(log.history['loss'], label='loss')\n",
    "plt.plot(log.history['val_loss'], label='val_loss')\n",
    "plt.legend(frameon=False) # 凡例の表示\n",
    "plt.ylim(0.0, 0.5)\n",
    "plt.xlabel(\"epochs\")\n",
    "plt.ylabel(\"crossentropy\")\n",
    "plt.show()"
   ]
  },
  {
   "cell_type": "code",
   "execution_count": 9,
   "metadata": {
    "id": "OH5yQBx9DOPK"
   },
   "outputs": [],
   "source": [
    "# npyファイル読み込み\n",
    "X_test = np.load('/content/drive/MyDrive/python/chest_xray/X_test2.npy')\n",
    "Y_test = np.load('/content/drive/MyDrive/python/chest_xray/Y_test2.npy')\n",
    "X_test = X_test.astype(np.float32)\n",
    "X_test = X_test / 255.0"
   ]
  },
  {
   "cell_type": "code",
   "execution_count": 10,
   "metadata": {
    "colab": {
     "base_uri": "https://localhost:8080/"
    },
    "id": "APOmL6FyFUbM",
    "outputId": "72f2f3c7-0ea2-4ff3-bcf3-4bce96f888c5"
   },
   "outputs": [
    {
     "name": "stdout",
     "output_type": "stream",
     "text": [
      "              precision    recall  f1-score   support\n",
      "\n",
      "           0       0.97      0.86      0.91       234\n",
      "           1       0.92      0.98      0.95       390\n",
      "\n",
      "    accuracy                           0.94       624\n",
      "   macro avg       0.95      0.92      0.93       624\n",
      "weighted avg       0.94      0.94      0.94       624\n",
      "\n"
     ]
    }
   ],
   "source": [
    "# テストデータで予測\n",
    "Y_pred = np.argmax(model.predict(X_test), axis=1)\n",
    "\n",
    "# カテゴリー変数の復元\n",
    "Y_test_ = np.argmax(Y_test, axis=1)\n",
    "\n",
    "from sklearn.metrics import classification_report\n",
    "print(classification_report(Y_test_, Y_pred))"
   ]
  },
  {
   "cell_type": "code",
   "execution_count": 11,
   "metadata": {
    "colab": {
     "base_uri": "https://localhost:8080/"
    },
    "id": "ayLD1RpHF__X",
    "outputId": "111fc6b3-ed09-4d49-a778-7be3676b00a6"
   },
   "outputs": [
    {
     "name": "stdout",
     "output_type": "stream",
     "text": [
      "predict data\n",
      "# of normal: 208\n",
      "# of pneumonia: 416\n"
     ]
    }
   ],
   "source": [
    "# 予測データ比率の確認\n",
    "num_n = 0\n",
    "num_p = 0\n",
    "for pred in Y_pred:\n",
    "    if pred == 0:\n",
    "        num_n += 1\n",
    "    else:\n",
    "        num_p += 1\n",
    "print(\"predict data\")\n",
    "print(f\"# of normal: {num_n}\")\n",
    "print(f\"# of pneumonia: {num_p}\")"
   ]
  },
  {
   "cell_type": "code",
   "execution_count": 12,
   "metadata": {
    "id": "BHGh6KzXXYSY"
   },
   "outputs": [],
   "source": [
    "# モデルをmodel.jsonとして保存\n",
    "path = \"/content/drive/MyDrive/python/chest_xray/\"\n",
    "with open (path + \"model.json\", \"w\") as json_file:\n",
    "    json_file.write(model.to_json())\n",
    "\n",
    "# パラメータをweight.h5として保存\n",
    "model.save_weights(path + \"weight.h5\")"
   ]
  },
  {
   "cell_type": "code",
   "execution_count": 12,
   "metadata": {
    "id": "RTRqobMRXn_E"
   },
   "outputs": [],
   "source": []
  }
 ],
 "metadata": {
  "accelerator": "GPU",
  "colab": {
   "collapsed_sections": [],
   "machine_shape": "hm",
   "name": "chest_xray.ipynb",
   "provenance": []
  },
  "kernelspec": {
   "display_name": "Python 3",
   "language": "python",
   "name": "python3"
  },
  "language_info": {
   "codemirror_mode": {
    "name": "ipython",
    "version": 3
   },
   "file_extension": ".py",
   "mimetype": "text/x-python",
   "name": "python",
   "nbconvert_exporter": "python",
   "pygments_lexer": "ipython3",
   "version": "3.8.3"
  }
 },
 "nbformat": 4,
 "nbformat_minor": 4
}
