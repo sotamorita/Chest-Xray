{
  "nbformat": 4,
  "nbformat_minor": 0,
  "metadata": {
    "accelerator": "GPU",
    "colab": {
      "name": "chest_xray.ipynb",
      "provenance": [],
      "collapsed_sections": [],
      "machine_shape": "hm",
      "mount_file_id": "1iTQ-Zsf2B2C4MLsNdj6Um51bLU22n78w",
      "authorship_tag": "ABX9TyOvIQgMLugH8ibHnqemu5Tv",
      "include_colab_link": true
    },
    "kernelspec": {
      "display_name": "Python 3",
      "name": "python3"
    },
    "language_info": {
      "name": "python"
    }
  },
  "cells": [
    {
      "cell_type": "markdown",
      "metadata": {
        "id": "view-in-github",
        "colab_type": "text"
      },
      "source": [
        "<a href=\"https://colab.research.google.com/github/sotamorita/Chest-Xray/blob/main/chest_xray.ipynb\" target=\"_parent\"><img src=\"https://colab.research.google.com/assets/colab-badge.svg\" alt=\"Open In Colab\"/></a>"
      ]
    },
    {
      "cell_type": "markdown",
      "metadata": {
        "id": "B6xHiMDl-Bb6"
      },
      "source": [
        "# データの学習\n",
        "※ Google Colabで実行"
      ]
    },
    {
      "cell_type": "code",
      "metadata": {
        "id": "Hp3t0aK82Mxr"
      },
      "source": [
        "# ライブラリのインポート\n",
        "import numpy as np\n",
        "import matplotlib.pyplot as plt\n",
        "import cv2\n",
        "from google.colab.patches import cv2_imshow\n",
        "\n",
        "import tensorflow as tf\n",
        "from tensorflow import keras\n",
        "from tensorflow.keras.layers import Dense, Dropout, Flatten\n",
        "from tensorflow.keras.optimizers import RMSprop\n",
        "from tensorflow.keras.applications import VGG16\n",
        "from tensorflow.keras.preprocessing.image import ImageDataGenerator\n",
        "from tensorflow.keras.models import Sequential\n",
        "from tensorflow.keras.models import Model"
      ],
      "execution_count": null,
      "outputs": []
    },
    {
      "cell_type": "code",
      "metadata": {
        "id": "9crzTRRJ2hlR"
      },
      "source": [
        "# npyファイル読み込み\n",
        "X_train = np.load('/content/drive/MyDrive/python/chest_xray/X_train2.npy')\n",
        "Y_train = np.load('/content/drive/MyDrive/python/chest_xray/Y_train2.npy')\n",
        "X_train = X_train.astype(np.float32)\n",
        "X_train = X_train / 255.0\n",
        "\n",
        "X_valid = np.load('/content/drive/MyDrive/python/chest_xray/X_valid2.npy')\n",
        "Y_valid = np.load('/content/drive/MyDrive/python/chest_xray/Y_valid2.npy')\n",
        "X_valid = X_valid.astype(np.float32)\n",
        "X_valid = X_valid / 255.0"
      ],
      "execution_count": null,
      "outputs": []
    },
    {
      "cell_type": "code",
      "metadata": {
        "id": "Zi9d2UlXbZsK"
      },
      "source": [
        "# XとYの対応関係を保ったままシャッフル\n",
        "seed_train = np.random.permutation(len(X_train))\n",
        "X_train = X_train[seed_train]\n",
        "Y_train = Y_train[seed_train]\n",
        "seed_valid = np.random.permutation(len(X_valid))\n",
        "X_valid = X_valid[seed_valid]\n",
        "Y_valid = Y_valid[seed_valid]"
      ],
      "execution_count": null,
      "outputs": []
    },
    {
      "cell_type": "code",
      "metadata": {
        "id": "kkdIS5nuIdUG"
      },
      "source": [
        "# データの拡張\n",
        "datagen = ImageDataGenerator(\n",
        "        rotation_range=20, \n",
        "        zoom_range=0.15, \n",
        "        width_shift_range=0.15, \n",
        "        height_shift_range=0.15, \n",
        "        # brightness_range=[0.99, 1.01]\n",
        "        )"
      ],
      "execution_count": null,
      "outputs": []
    },
    {
      "cell_type": "code",
      "metadata": {
        "colab": {
          "base_uri": "https://localhost:8080/",
          "height": 69
        },
        "id": "QQ7_IiRChkQE",
        "outputId": "64700b4b-0097-410e-c9f3-ff92a5c23f40"
      },
      "source": [
        "\"\"\"\n",
        "# NORMALとPNEUMONIAの比から重みを計算\n",
        "num_n = 0\n",
        "num_p = 0\n",
        "num_train = len(Y_train)\n",
        "for y in Y_train:\n",
        "    if y[0] == 1:\n",
        "        num_n += 1\n",
        "    else:\n",
        "        num_p += 1\n",
        "print(\"train data\")\n",
        "print(f\"# of normal: {num_n}\")\n",
        "print(f\"# of pneumonia: {num_p}\")\n",
        "\n",
        "weight_for_0 = (1/num_n) * (num_train) / 2.0 \n",
        "weight_for_1 = (1/num_p) * (num_train) / 2.0\n",
        "\n",
        "class_weight = {0: weight_for_0, 1: weight_for_1}\n",
        "\n",
        "print('Weight for normal   : {:.2f}'.format(weight_for_0))\n",
        "print('Weight for pneumonia: {:.2f}'.format(weight_for_1))\n",
        "\"\"\""
      ],
      "execution_count": null,
      "outputs": [
        {
          "output_type": "execute_result",
          "data": {
            "application/vnd.google.colaboratory.intrinsic+json": {
              "type": "string"
            },
            "text/plain": [
              "'\\n# NORMALとPNEUMONIAの比から重みを計算\\nnum_n = 0\\nnum_p = 0\\nnum_train = len(Y_train)\\nfor y in Y_train:\\n    if y[0] == 1:\\n        num_n += 1\\n    else:\\n        num_p += 1\\nprint(\"train data\")\\nprint(f\"# of normal: {num_n}\")\\nprint(f\"# of pneumonia: {num_p}\")\\n\\nweight_for_0 = (1/num_n) * (num_train) / 2.0 \\nweight_for_1 = (1/num_p) * (num_train) / 2.0\\n\\nclass_weight = {0: weight_for_0, 1: weight_for_1}\\n\\nprint(\\'Weight for normal   : {:.2f}\\'.format(weight_for_0))\\nprint(\\'Weight for pneumonia: {:.2f}\\'.format(weight_for_1))\\n'"
            ]
          },
          "metadata": {},
          "execution_count": 5
        }
      ]
    },
    {
      "cell_type": "code",
      "metadata": {
        "colab": {
          "base_uri": "https://localhost:8080/"
        },
        "id": "sOFnZZxZ4nGX",
        "outputId": "aa648a5d-2ed1-47b2-fae8-b7f4a453ea21"
      },
      "source": [
        "# モデルの定義\n",
        "model = VGG16(weights='imagenet', include_top=False, input_shape=(224, 224, 3))\n",
        "# model.summary()\n",
        "\n",
        "top_model = Sequential()\n",
        "top_model.add(Flatten(input_shape=model.output_shape[1:]))\n",
        "top_model.add(Dense(256, activation='relu'))\n",
        "top_model.add(Dropout(0.5))\n",
        "top_model.add(Dense(2, activation='softmax'))\n",
        "\n",
        "model = Model(inputs=model.input, outputs=top_model(model.output))\n",
        "\n",
        "model.summary()\n",
        "\n",
        "for layer in model.layers[:15]:\n",
        "    layer.trainable = False\n",
        "\n",
        "\n",
        "# 学習率のスケジューリング\n",
        "def scheduler(epoch, lr):\n",
        "    if epoch < 20:\n",
        "        return lr\n",
        "    else:\n",
        "        return lr * tf.math.exp(-0.1)\n",
        "\n",
        "callback = keras.callbacks.LearningRateScheduler(scheduler)\n",
        "'''\n",
        "# Early Stopping\n",
        "callback = tf.keras.callbacks.EarlyStopping(patience=10, verbose=1)\n",
        "'''\n",
        "opt = RMSprop(learning_rate=0.0001)\n",
        "model.compile(optimizer=opt, loss='binary_crossentropy', metrics=['accuracy'])"
      ],
      "execution_count": null,
      "outputs": [
        {
          "output_type": "stream",
          "name": "stdout",
          "text": [
            "Downloading data from https://storage.googleapis.com/tensorflow/keras-applications/vgg16/vgg16_weights_tf_dim_ordering_tf_kernels_notop.h5\n",
            "58892288/58889256 [==============================] - 1s 0us/step\n",
            "58900480/58889256 [==============================] - 1s 0us/step\n",
            "Model: \"model\"\n",
            "_________________________________________________________________\n",
            "Layer (type)                 Output Shape              Param #   \n",
            "=================================================================\n",
            "input_1 (InputLayer)         [(None, 224, 224, 3)]     0         \n",
            "_________________________________________________________________\n",
            "block1_conv1 (Conv2D)        (None, 224, 224, 64)      1792      \n",
            "_________________________________________________________________\n",
            "block1_conv2 (Conv2D)        (None, 224, 224, 64)      36928     \n",
            "_________________________________________________________________\n",
            "block1_pool (MaxPooling2D)   (None, 112, 112, 64)      0         \n",
            "_________________________________________________________________\n",
            "block2_conv1 (Conv2D)        (None, 112, 112, 128)     73856     \n",
            "_________________________________________________________________\n",
            "block2_conv2 (Conv2D)        (None, 112, 112, 128)     147584    \n",
            "_________________________________________________________________\n",
            "block2_pool (MaxPooling2D)   (None, 56, 56, 128)       0         \n",
            "_________________________________________________________________\n",
            "block3_conv1 (Conv2D)        (None, 56, 56, 256)       295168    \n",
            "_________________________________________________________________\n",
            "block3_conv2 (Conv2D)        (None, 56, 56, 256)       590080    \n",
            "_________________________________________________________________\n",
            "block3_conv3 (Conv2D)        (None, 56, 56, 256)       590080    \n",
            "_________________________________________________________________\n",
            "block3_pool (MaxPooling2D)   (None, 28, 28, 256)       0         \n",
            "_________________________________________________________________\n",
            "block4_conv1 (Conv2D)        (None, 28, 28, 512)       1180160   \n",
            "_________________________________________________________________\n",
            "block4_conv2 (Conv2D)        (None, 28, 28, 512)       2359808   \n",
            "_________________________________________________________________\n",
            "block4_conv3 (Conv2D)        (None, 28, 28, 512)       2359808   \n",
            "_________________________________________________________________\n",
            "block4_pool (MaxPooling2D)   (None, 14, 14, 512)       0         \n",
            "_________________________________________________________________\n",
            "block5_conv1 (Conv2D)        (None, 14, 14, 512)       2359808   \n",
            "_________________________________________________________________\n",
            "block5_conv2 (Conv2D)        (None, 14, 14, 512)       2359808   \n",
            "_________________________________________________________________\n",
            "block5_conv3 (Conv2D)        (None, 14, 14, 512)       2359808   \n",
            "_________________________________________________________________\n",
            "block5_pool (MaxPooling2D)   (None, 7, 7, 512)         0         \n",
            "_________________________________________________________________\n",
            "sequential (Sequential)      (None, 2)                 6423298   \n",
            "=================================================================\n",
            "Total params: 21,137,986\n",
            "Trainable params: 21,137,986\n",
            "Non-trainable params: 0\n",
            "_________________________________________________________________\n"
          ]
        }
      ]
    },
    {
      "cell_type": "code",
      "metadata": {
        "colab": {
          "base_uri": "https://localhost:8080/"
        },
        "id": "ekTWF10e4-TQ",
        "outputId": "b22d64c7-09e3-4192-8f04-29bdff339889"
      },
      "source": [
        "# 学習の実施\n",
        "batch_size_train = 128\n",
        "batch_size_valid = 32\n",
        "epochs = 40\n",
        "log = model.fit(\n",
        "    datagen.flow(X_train, Y_train, batch_size_train),\n",
        "    steps_per_epoch=len(X_train) // batch_size_train,\n",
        "    epochs=epochs,\n",
        "    verbose=True,\n",
        "    validation_data=datagen.flow(X_valid, Y_valid, batch_size=batch_size_valid),\n",
        "    validation_steps=len(X_valid) // batch_size_valid,\n",
        "    callbacks=[callback], \n",
        "    # class_weight=class_weight, \n",
        "    )"
      ],
      "execution_count": null,
      "outputs": [
        {
          "output_type": "stream",
          "name": "stdout",
          "text": [
            "Epoch 1/40\n",
            "32/32 [==============================] - 84s 2s/step - loss: 0.4067 - accuracy: 0.8326 - val_loss: 0.2248 - val_accuracy: 0.9004\n",
            "Epoch 2/40\n",
            "32/32 [==============================] - 52s 2s/step - loss: 0.2103 - accuracy: 0.9177 - val_loss: 0.1424 - val_accuracy: 0.9395\n",
            "Epoch 3/40\n",
            "32/32 [==============================] - 52s 2s/step - loss: 0.1848 - accuracy: 0.9236 - val_loss: 0.1234 - val_accuracy: 0.9561\n",
            "Epoch 4/40\n",
            "32/32 [==============================] - 52s 2s/step - loss: 0.1415 - accuracy: 0.9465 - val_loss: 0.1063 - val_accuracy: 0.9629\n",
            "Epoch 5/40\n",
            "32/32 [==============================] - 52s 2s/step - loss: 0.1312 - accuracy: 0.9522 - val_loss: 0.1485 - val_accuracy: 0.9414\n",
            "Epoch 6/40\n",
            "32/32 [==============================] - 53s 2s/step - loss: 0.1121 - accuracy: 0.9583 - val_loss: 0.1094 - val_accuracy: 0.9580\n",
            "Epoch 7/40\n",
            "32/32 [==============================] - 53s 2s/step - loss: 0.1067 - accuracy: 0.9615 - val_loss: 0.1026 - val_accuracy: 0.9561\n",
            "Epoch 8/40\n",
            "32/32 [==============================] - 51s 2s/step - loss: 0.0978 - accuracy: 0.9618 - val_loss: 0.1046 - val_accuracy: 0.9619\n",
            "Epoch 9/40\n",
            "32/32 [==============================] - 52s 2s/step - loss: 0.0870 - accuracy: 0.9684 - val_loss: 0.0882 - val_accuracy: 0.9717\n",
            "Epoch 10/40\n",
            "32/32 [==============================] - 51s 2s/step - loss: 0.0828 - accuracy: 0.9677 - val_loss: 0.2069 - val_accuracy: 0.9209\n",
            "Epoch 11/40\n",
            "32/32 [==============================] - 51s 2s/step - loss: 0.0787 - accuracy: 0.9744 - val_loss: 0.0987 - val_accuracy: 0.9639\n",
            "Epoch 12/40\n",
            "32/32 [==============================] - 52s 2s/step - loss: 0.0734 - accuracy: 0.9699 - val_loss: 0.1831 - val_accuracy: 0.9346\n",
            "Epoch 13/40\n",
            "32/32 [==============================] - 52s 2s/step - loss: 0.0768 - accuracy: 0.9739 - val_loss: 0.1173 - val_accuracy: 0.9648\n",
            "Epoch 14/40\n",
            "32/32 [==============================] - 52s 2s/step - loss: 0.0672 - accuracy: 0.9776 - val_loss: 0.0860 - val_accuracy: 0.9658\n",
            "Epoch 15/40\n",
            "32/32 [==============================] - 52s 2s/step - loss: 0.0692 - accuracy: 0.9756 - val_loss: 0.0829 - val_accuracy: 0.9688\n",
            "Epoch 16/40\n",
            "32/32 [==============================] - 51s 2s/step - loss: 0.0518 - accuracy: 0.9808 - val_loss: 0.0907 - val_accuracy: 0.9707\n",
            "Epoch 17/40\n",
            "32/32 [==============================] - 52s 2s/step - loss: 0.0513 - accuracy: 0.9805 - val_loss: 0.0821 - val_accuracy: 0.9736\n",
            "Epoch 18/40\n",
            "32/32 [==============================] - 51s 2s/step - loss: 0.0588 - accuracy: 0.9808 - val_loss: 0.0737 - val_accuracy: 0.9766\n",
            "Epoch 19/40\n",
            "32/32 [==============================] - 52s 2s/step - loss: 0.0536 - accuracy: 0.9813 - val_loss: 0.0571 - val_accuracy: 0.9775\n",
            "Epoch 20/40\n",
            "32/32 [==============================] - 52s 2s/step - loss: 0.0598 - accuracy: 0.9783 - val_loss: 0.0658 - val_accuracy: 0.9805\n",
            "Epoch 21/40\n",
            "32/32 [==============================] - 52s 2s/step - loss: 0.0507 - accuracy: 0.9837 - val_loss: 0.0629 - val_accuracy: 0.9766\n",
            "Epoch 22/40\n",
            "32/32 [==============================] - 52s 2s/step - loss: 0.0484 - accuracy: 0.9857 - val_loss: 0.0663 - val_accuracy: 0.9756\n",
            "Epoch 23/40\n",
            "32/32 [==============================] - 52s 2s/step - loss: 0.0381 - accuracy: 0.9884 - val_loss: 0.0709 - val_accuracy: 0.9717\n",
            "Epoch 24/40\n",
            "32/32 [==============================] - 52s 2s/step - loss: 0.0282 - accuracy: 0.9899 - val_loss: 0.0671 - val_accuracy: 0.9746\n",
            "Epoch 25/40\n",
            "32/32 [==============================] - 52s 2s/step - loss: 0.0329 - accuracy: 0.9894 - val_loss: 0.0694 - val_accuracy: 0.9756\n",
            "Epoch 26/40\n",
            "32/32 [==============================] - 53s 2s/step - loss: 0.0282 - accuracy: 0.9912 - val_loss: 0.0602 - val_accuracy: 0.9785\n",
            "Epoch 27/40\n",
            "32/32 [==============================] - 53s 2s/step - loss: 0.0268 - accuracy: 0.9912 - val_loss: 0.0584 - val_accuracy: 0.9766\n",
            "Epoch 28/40\n",
            "32/32 [==============================] - 52s 2s/step - loss: 0.0128 - accuracy: 0.9961 - val_loss: 0.0839 - val_accuracy: 0.9785\n",
            "Epoch 29/40\n",
            "32/32 [==============================] - 53s 2s/step - loss: 0.0231 - accuracy: 0.9922 - val_loss: 0.0990 - val_accuracy: 0.9785\n",
            "Epoch 30/40\n",
            "32/32 [==============================] - 52s 2s/step - loss: 0.0176 - accuracy: 0.9936 - val_loss: 0.1011 - val_accuracy: 0.9648\n",
            "Epoch 31/40\n",
            "32/32 [==============================] - 52s 2s/step - loss: 0.0136 - accuracy: 0.9958 - val_loss: 0.0892 - val_accuracy: 0.9805\n",
            "Epoch 32/40\n",
            "32/32 [==============================] - 52s 2s/step - loss: 0.0146 - accuracy: 0.9951 - val_loss: 0.0885 - val_accuracy: 0.9746\n",
            "Epoch 33/40\n",
            "32/32 [==============================] - 52s 2s/step - loss: 0.0140 - accuracy: 0.9970 - val_loss: 0.1592 - val_accuracy: 0.9678\n",
            "Epoch 34/40\n",
            "32/32 [==============================] - 53s 2s/step - loss: 0.0129 - accuracy: 0.9943 - val_loss: 0.0828 - val_accuracy: 0.9775\n",
            "Epoch 35/40\n",
            "32/32 [==============================] - 52s 2s/step - loss: 0.0138 - accuracy: 0.9958 - val_loss: 0.0802 - val_accuracy: 0.9756\n",
            "Epoch 36/40\n",
            "32/32 [==============================] - 52s 2s/step - loss: 0.0114 - accuracy: 0.9963 - val_loss: 0.1038 - val_accuracy: 0.9707\n",
            "Epoch 37/40\n",
            "32/32 [==============================] - 52s 2s/step - loss: 0.0102 - accuracy: 0.9956 - val_loss: 0.1445 - val_accuracy: 0.9688\n",
            "Epoch 38/40\n",
            "32/32 [==============================] - 52s 2s/step - loss: 0.0112 - accuracy: 0.9961 - val_loss: 0.1130 - val_accuracy: 0.9766\n",
            "Epoch 39/40\n",
            "32/32 [==============================] - 52s 2s/step - loss: 0.0097 - accuracy: 0.9963 - val_loss: 0.1013 - val_accuracy: 0.9756\n",
            "Epoch 40/40\n",
            "32/32 [==============================] - 52s 2s/step - loss: 0.0128 - accuracy: 0.9961 - val_loss: 0.0648 - val_accuracy: 0.9795\n"
          ]
        }
      ]
    },
    {
      "cell_type": "code",
      "metadata": {
        "id": "D5ik3rjX5bSS",
        "colab": {
          "base_uri": "https://localhost:8080/",
          "height": 283
        },
        "outputId": "1395ec9c-7902-4813-9e6d-4bf5be32db8e"
      },
      "source": [
        "# グラフ表示\n",
        "plt.plot(log.history['loss'], label='loss')\n",
        "plt.plot(log.history['val_loss'], label='val_loss')\n",
        "plt.legend(frameon=False) # 凡例の表示\n",
        "plt.ylim(0.0, 0.5)\n",
        "plt.xlabel(\"epochs\")\n",
        "plt.ylabel(\"crossentropy\")\n",
        "plt.show()"
      ],
      "execution_count": null,
      "outputs": [
        {
          "output_type": "display_data",
          "data": {
            "image/png": "[encoded data removed]",
            "text/plain": [
              "<Figure size 432x288 with 1 Axes>"
            ]
          },
          "metadata": {
            "needs_background": "light"
          }
        }
      ]
    },
    {
      "cell_type": "code",
      "metadata": {
        "id": "OH5yQBx9DOPK"
      },
      "source": [
        "# npyファイル読み込み\n",
        "X_test = np.load('/content/drive/MyDrive/python/chest_xray/X_test2.npy')\n",
        "Y_test = np.load('/content/drive/MyDrive/python/chest_xray/Y_test2.npy')\n",
        "X_test = X_test.astype(np.float32)\n",
        "X_test = X_test / 255.0"
      ],
      "execution_count": null,
      "outputs": []
    },
    {
      "cell_type": "code",
      "metadata": {
        "id": "APOmL6FyFUbM",
        "colab": {
          "base_uri": "https://localhost:8080/"
        },
        "outputId": "b504963e-134e-4c71-9e0f-e108fc5f36ed"
      },
      "source": [
        "# テストデータで予測\n",
        "Y_pred = np.argmax(model.predict(X_test), axis=1)\n",
        "\n",
        "# カテゴリー変数の復元\n",
        "Y_test_ = np.argmax(Y_test, axis=1)\n",
        "\n",
        "from sklearn.metrics import classification_report\n",
        "print(classification_report(Y_test_, Y_pred))"
      ],
      "execution_count": null,
      "outputs": [
        {
          "output_type": "stream",
          "name": "stdout",
          "text": [
            "              precision    recall  f1-score   support\n",
            "\n",
            "           0       0.96      0.89      0.92       234\n",
            "           1       0.94      0.98      0.96       390\n",
            "\n",
            "    accuracy                           0.95       624\n",
            "   macro avg       0.95      0.94      0.94       624\n",
            "weighted avg       0.95      0.95      0.95       624\n",
            "\n"
          ]
        }
      ]
    },
    {
      "cell_type": "code",
      "metadata": {
        "id": "ayLD1RpHF__X",
        "colab": {
          "base_uri": "https://localhost:8080/"
        },
        "outputId": "384ebd6d-0daf-44e9-d16f-033fd27860e0"
      },
      "source": [
        "num_n = 0\n",
        "num_p = 0\n",
        "for pred in Y_pred:\n",
        "    if pred == 0:\n",
        "        num_n += 1\n",
        "    else:\n",
        "        num_p += 1\n",
        "print(\"predict data\")\n",
        "print(f\"# of normal: {num_n}\")\n",
        "print(f\"# of pneumonia: {num_p}\")"
      ],
      "execution_count": null,
      "outputs": [
        {
          "output_type": "stream",
          "name": "stdout",
          "text": [
            "predict data\n",
            "# of normal: 218\n",
            "# of pneumonia: 406\n"
          ]
        }
      ]
    },
    {
      "cell_type": "code",
      "metadata": {
        "id": "BHGh6KzXXYSY"
      },
      "source": [
        "# モデルをmodel.jsonとして保存\n",
        "path = \"/content/drive/MyDrive/python/chest_xray/\"\n",
        "with open (path + \"model_data2.json\", \"w\") as json_file:\n",
        "    json_file.write(model.to_json())\n",
        "\n",
        "# パラメータをweight.h5として保存\n",
        "model.save_weights(path + \"weight_data2.h5\")"
      ],
      "execution_count": null,
      "outputs": []
    },
    {
      "cell_type": "code",
      "metadata": {
        "id": "RTRqobMRXn_E"
      },
      "source": [
        "np.save(path + \"Y_pred2\", Y_pred)"
      ],
      "execution_count": null,
      "outputs": []
    },
    {
      "cell_type": "code",
      "metadata": {
        "id": "mTiqCMAC1OCE"
      },
      "source": [
        ""
      ],
      "execution_count": null,
      "outputs": []
    }
  ]
}